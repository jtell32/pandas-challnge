{
 "cells": [
  {
   "cell_type": "code",
   "execution_count": 574,
   "id": "3463a5e8-24ea-4711-8edc-9a6fb46eecf3",
   "metadata": {},
   "outputs": [],
   "source": [
    "import pandas as pd"
   ]
  },
  {
   "cell_type": "code",
   "execution_count": 575,
   "id": "a9dc679d-5a7e-4c32-99dc-f7fde9c86918",
   "metadata": {},
   "outputs": [],
   "source": [
    "csvreader = (\"Resources/purchase_data.csv\") "
   ]
  },
  {
   "cell_type": "code",
   "execution_count": 576,
   "id": "668e141a-870e-49f5-a976-b31d2f48bbd2",
   "metadata": {},
   "outputs": [],
   "source": [
    "purchase_data = pd.read_csv(csvreader)"
   ]
  },
  {
   "cell_type": "code",
   "execution_count": 577,
   "id": "fe8bbead-c2cc-4bfc-9f3d-7b5d51887b3a",
   "metadata": {},
   "outputs": [
    {
     "data": {
      "text/html": [
       "<div>\n",
       "<style scoped>\n",
       "    .dataframe tbody tr th:only-of-type {\n",
       "        vertical-align: middle;\n",
       "    }\n",
       "\n",
       "    .dataframe tbody tr th {\n",
       "        vertical-align: top;\n",
       "    }\n",
       "\n",
       "    .dataframe thead th {\n",
       "        text-align: right;\n",
       "    }\n",
       "</style>\n",
       "<table border=\"1\" class=\"dataframe\">\n",
       "  <thead>\n",
       "    <tr style=\"text-align: right;\">\n",
       "      <th></th>\n",
       "      <th>Total Players</th>\n",
       "    </tr>\n",
       "  </thead>\n",
       "  <tbody>\n",
       "    <tr>\n",
       "      <th>0</th>\n",
       "      <td>576</td>\n",
       "    </tr>\n",
       "  </tbody>\n",
       "</table>\n",
       "</div>"
      ],
      "text/plain": [
       "   Total Players\n",
       "0            576"
      ]
     },
     "execution_count": 577,
     "metadata": {},
     "output_type": "execute_result"
    }
   ],
   "source": [
    "##Player Count\n",
    "#Total Number of Players\n",
    "player_count = len(purchase_data['SN'].unique())\n",
    "total_players = pd.DataFrame({\"Total Players\": [player_count]})\n",
    "total_players"
   ]
  },
  {
   "cell_type": "code",
   "execution_count": 578,
   "id": "9aa122b2-8de0-4833-b8de-a5cc8f0d4fd7",
   "metadata": {},
   "outputs": [
    {
     "data": {
      "text/html": [
       "<div>\n",
       "<style scoped>\n",
       "    .dataframe tbody tr th:only-of-type {\n",
       "        vertical-align: middle;\n",
       "    }\n",
       "\n",
       "    .dataframe tbody tr th {\n",
       "        vertical-align: top;\n",
       "    }\n",
       "\n",
       "    .dataframe thead th {\n",
       "        text-align: right;\n",
       "    }\n",
       "</style>\n",
       "<table border=\"1\" class=\"dataframe\">\n",
       "  <thead>\n",
       "    <tr style=\"text-align: right;\">\n",
       "      <th></th>\n",
       "      <th>Number of Unique Items</th>\n",
       "      <th>Average Purchase Price</th>\n",
       "      <th>Total Number of Purchases</th>\n",
       "      <th>Total Revenue</th>\n",
       "    </tr>\n",
       "  </thead>\n",
       "  <tbody>\n",
       "    <tr>\n",
       "      <th>0</th>\n",
       "      <td>179</td>\n",
       "      <td>3.05</td>\n",
       "      <td>780</td>\n",
       "      <td>2379.77</td>\n",
       "    </tr>\n",
       "  </tbody>\n",
       "</table>\n",
       "</div>"
      ],
      "text/plain": [
       "   Number of Unique Items  Average Purchase Price  Total Number of Purchases  \\\n",
       "0                     179                    3.05                        780   \n",
       "\n",
       "   Total Revenue  \n",
       "0        2379.77  "
      ]
     },
     "execution_count": 578,
     "metadata": {},
     "output_type": "execute_result"
    }
   ],
   "source": [
    "##Purchasing Analysis (Total)\n",
    "\n",
    "#Number of Unique Items\n",
    "#Average Purchase Price\n",
    "#Total Number of Purchases\n",
    "#Total Revenue\n",
    "\n",
    "unique_items = len(purchase_data['Item ID'].unique())\n",
    "purchase_price = round(purchase_data['Price'].mean(), 2)\n",
    "number_of_purchases = len(purchase_data['Purchase ID'])\n",
    "total_rev = sum(purchase_data['Price'])\n",
    "\n",
    "purchase_analysis = pd.DataFrame({\"Number of Unique Items\": [unique_items],\n",
    "                              \"Average Purchase Price\": purchase_price,\n",
    "                              \"Total Number of Purchases\": number_of_purchases,\n",
    "                              \"Total Revenue\":total_rev})\n",
    "\n",
    "purchase_analysis"
   ]
  },
  {
   "cell_type": "code",
   "execution_count": 579,
   "id": "ff77745e-b8ac-4688-83b5-ae142ba1220c",
   "metadata": {},
   "outputs": [
    {
     "data": {
      "text/plain": [
       "652"
      ]
     },
     "execution_count": 579,
     "metadata": {},
     "output_type": "execute_result"
    }
   ],
   "source": [
    "per1 = max(purchase_data.Gender.value_counts())\n",
    "per1"
   ]
  },
  {
   "cell_type": "code",
   "execution_count": 580,
   "id": "3b220dd8-ad5a-4383-aced-9f0e4d61a9ab",
   "metadata": {},
   "outputs": [
    {
     "data": {
      "text/plain": [
       "484"
      ]
     },
     "execution_count": 580,
     "metadata": {},
     "output_type": "execute_result"
    }
   ],
   "source": [
    "per = purchase_data.drop_duplicates(subset=['SN'])\n",
    "per2 = per[per['Gender'] == \"Male\"]\n",
    "x = per2.shape[0]\n",
    "x"
   ]
  },
  {
   "cell_type": "code",
   "execution_count": 581,
   "id": "ead98860-0675-4101-a061-da22185b9592",
   "metadata": {},
   "outputs": [
    {
     "data": {
      "text/html": [
       "<div>\n",
       "<style scoped>\n",
       "    .dataframe tbody tr th:only-of-type {\n",
       "        vertical-align: middle;\n",
       "    }\n",
       "\n",
       "    .dataframe tbody tr th {\n",
       "        vertical-align: top;\n",
       "    }\n",
       "\n",
       "    .dataframe thead th {\n",
       "        text-align: right;\n",
       "    }\n",
       "</style>\n",
       "<table border=\"1\" class=\"dataframe\">\n",
       "  <thead>\n",
       "    <tr style=\"text-align: right;\">\n",
       "      <th></th>\n",
       "      <th>Total Count</th>\n",
       "      <th>Percentage of Players</th>\n",
       "    </tr>\n",
       "  </thead>\n",
       "  <tbody>\n",
       "    <tr>\n",
       "      <th>Male</th>\n",
       "      <td>484</td>\n",
       "      <td>341.60</td>\n",
       "    </tr>\n",
       "    <tr>\n",
       "      <th>Female</th>\n",
       "      <td>81</td>\n",
       "      <td>62.84</td>\n",
       "    </tr>\n",
       "    <tr>\n",
       "      <th>Other / Non-Disclosed</th>\n",
       "      <td>11</td>\n",
       "      <td>8.71</td>\n",
       "    </tr>\n",
       "  </tbody>\n",
       "</table>\n",
       "</div>"
      ],
      "text/plain": [
       "                       Total Count  Percentage of Players\n",
       "Male                           484                 341.60\n",
       "Female                          81                  62.84\n",
       "Other / Non-Disclosed           11                   8.71"
      ]
     },
     "execution_count": 581,
     "metadata": {},
     "output_type": "execute_result"
    }
   ],
   "source": [
    "###Gender Demographics###\n",
    "\n",
    "#Percentage and Count of Male Players\n",
    "per1 = max(purchase_data.Gender.value_counts())\n",
    "per = purchase_data.drop_duplicates(subset=['SN'])\n",
    "per2 = per[per['Gender'] == \"Male\"]\n",
    "\n",
    "male_count = per2.shape[0]\n",
    "\n",
    "per_male = round(male_total/player_count, 4)*100\n",
    "\n",
    "#Percentage and Count of Female Players\n",
    "per3 = per[per['Gender'] == \"Female\"]\n",
    "\n",
    "female_count = per3.shape[0]\n",
    "\n",
    "per_female = round(female_total/player_count, 4)*100\n",
    "\n",
    "#Percentage and Count of Other / Non-Disclosed\n",
    "per4 = per[per['Gender'] == \"Other / Non-Disclosed\"]\n",
    "\n",
    "other_count = per4.shape[0]\n",
    "\n",
    "per_other = round(other_total/player_count, 4)*100\n",
    "\n",
    "index = ['Male', 'Female', 'Other / Non-Disclosed']\n",
    "\n",
    "gender_dem = pd.DataFrame({\"Total Count\" : [male_count, female_count, other_count], \"Percentage of Players\" : [per_male, per_female, per_other]}, index=index)\n",
    "\n",
    "gender_dem"
   ]
  },
  {
   "cell_type": "code",
   "execution_count": 582,
   "id": "41d4b85b-8325-484a-868d-542cec037b61",
   "metadata": {},
   "outputs": [
    {
     "name": "stderr",
     "output_type": "stream",
     "text": [
      "/var/folders/yv/lqp4cl9n5pv59lyt_3yc0ydh0000gn/T/ipykernel_8934/4088711787.py:11: FutureWarning: Dropping of nuisance columns in DataFrame reductions (with 'numeric_only=None') is deprecated; in a future version this will raise TypeError.  Select only valid columns before calling the reduction.\n",
      "  male_pur = purchase_data.loc[(purchase_data['Gender'] == \"Male\") & (purchase_data['Price'])].mean()\n",
      "/var/folders/yv/lqp4cl9n5pv59lyt_3yc0ydh0000gn/T/ipykernel_8934/4088711787.py:14: FutureWarning: Dropping of nuisance columns in DataFrame reductions (with 'numeric_only=None') is deprecated; in a future version this will raise TypeError.  Select only valid columns before calling the reduction.\n",
      "  female_pur = purchase_data.loc[(purchase_data['Gender'] == \"Female\") & (purchase_data['Price'])].mean()\n",
      "/var/folders/yv/lqp4cl9n5pv59lyt_3yc0ydh0000gn/T/ipykernel_8934/4088711787.py:17: FutureWarning: Dropping of nuisance columns in DataFrame reductions (with 'numeric_only=None') is deprecated; in a future version this will raise TypeError.  Select only valid columns before calling the reduction.\n",
      "  other_pur = purchase_data.loc[(purchase_data['Gender'] == \"Other / Non-Disclosed\") & (purchase_data['Price'])].mean()\n"
     ]
    },
    {
     "data": {
      "text/html": [
       "<div>\n",
       "<style scoped>\n",
       "    .dataframe tbody tr th:only-of-type {\n",
       "        vertical-align: middle;\n",
       "    }\n",
       "\n",
       "    .dataframe tbody tr th {\n",
       "        vertical-align: top;\n",
       "    }\n",
       "\n",
       "    .dataframe thead th {\n",
       "        text-align: right;\n",
       "    }\n",
       "</style>\n",
       "<table border=\"1\" class=\"dataframe\">\n",
       "  <thead>\n",
       "    <tr style=\"text-align: right;\">\n",
       "      <th></th>\n",
       "      <th>Purchase Count</th>\n",
       "      <th>Average Purchase Price</th>\n",
       "      <th>Total Purchase Value</th>\n",
       "      <th>Average Total Purchase Per Person</th>\n",
       "    </tr>\n",
       "  </thead>\n",
       "  <tbody>\n",
       "    <tr>\n",
       "      <th>Female</th>\n",
       "      <td>113</td>\n",
       "      <td>3.20</td>\n",
       "      <td>361.94</td>\n",
       "      <td>3.20</td>\n",
       "    </tr>\n",
       "    <tr>\n",
       "      <th>Male</th>\n",
       "      <td>652</td>\n",
       "      <td>3.02</td>\n",
       "      <td>1967.64</td>\n",
       "      <td>3.02</td>\n",
       "    </tr>\n",
       "    <tr>\n",
       "      <th>Other / Non-Disclosed</th>\n",
       "      <td>15</td>\n",
       "      <td>3.35</td>\n",
       "      <td>50.19</td>\n",
       "      <td>3.35</td>\n",
       "    </tr>\n",
       "  </tbody>\n",
       "</table>\n",
       "</div>"
      ],
      "text/plain": [
       "                       Purchase Count  Average Purchase Price  \\\n",
       "Female                            113                    3.20   \n",
       "Male                              652                    3.02   \n",
       "Other / Non-Disclosed              15                    3.35   \n",
       "\n",
       "                       Total Purchase Value  Average Total Purchase Per Person  \n",
       "Female                               361.94                               3.20  \n",
       "Male                                1967.64                               3.02  \n",
       "Other / Non-Disclosed                 50.19                               3.35  "
      ]
     },
     "execution_count": 582,
     "metadata": {},
     "output_type": "execute_result"
    }
   ],
   "source": [
    "###Purchasing Analysis (Gender)###\n",
    "\n",
    "#The below each broken by gender\n",
    "\n",
    "#Purchase Count\n",
    "male_count = max(purchase_data.Gender.value_counts())\n",
    "female_count = len(purchase_data[purchase_data['Gender'] == \"Female\"])\n",
    "other_count = min(purchase_data.Gender.value_counts())\n",
    "\n",
    "#Average Purchase Price\n",
    "male_pur = purchase_data.loc[(purchase_data['Gender'] == \"Male\") & (purchase_data['Price'])].mean()\n",
    "male_avg_pur = round(male_pur['Price'], 2)\n",
    "\n",
    "female_pur = purchase_data.loc[(purchase_data['Gender'] == \"Female\") & (purchase_data['Price'])].mean()\n",
    "female_avg_pur = round(female_pur['Price'], 2)\n",
    "\n",
    "other_pur = purchase_data.loc[(purchase_data['Gender'] == \"Other / Non-Disclosed\") & (purchase_data['Price'])].mean()\n",
    "other_avg_pur = round(other_pur['Price'], 2)\n",
    "\n",
    "#Total Purchase Value\n",
    "male_value = purchase_data.loc[(purchase_data['Gender'] == \"Male\") & (purchase_data['Price'])].sum()\n",
    "male_total = round(male_value['Price'], 2)\n",
    "\n",
    "female_value = purchase_data.loc[(purchase_data['Gender'] == \"Female\") & (purchase_data['Price'])].sum()\n",
    "female_total =round(female_value['Price'], 2)\n",
    "\n",
    "other_value = purchase_data.loc[(purchase_data['Gender'] == \"Other / Non-Disclosed\" ) & (purchase_data['Price'])].sum()\n",
    "other_total = round(other_value['Price'], 2)\n",
    "\n",
    "#Average Purchase Total per Person by Gender\n",
    "avg_female_per_person = round(female_total/female_count, 2)\n",
    "\n",
    "avg_male_per_person = round(male_total/male_count, 2)\n",
    "\n",
    "avg_other_per_person = round(other_total/other_count, 2)\n",
    "\n",
    "index1 = ['Female', 'Male', 'Other / Non-Disclosed']\n",
    "\n",
    "gender_pur_analysis = pd.DataFrame({\"Purchase Count\": [female_count, male_count, other_count], \"Average Purchase Price\": \n",
    "                                    [female_avg_pur, male_avg_pur, other_avg_pur], \"Total Purchase Value\":\n",
    "                                   [female_total, male_total, other_total], \"Average Total Purchase Per Person\":\n",
    "                                   [avg_female_per_person, avg_male_per_person, avg_other_per_person]}, index=index1)\n",
    "\n",
    "gender_pur_analysis"
   ]
  },
  {
   "cell_type": "code",
   "execution_count": 572,
   "id": "de7dab5b-3603-4b32-8488-1e3d6b5c9c11",
   "metadata": {},
   "outputs": [],
   "source": [
    "##Age Demographics\n",
    "\n",
    "#The below each broken into bins of 4 years (i.e. <10, 10-14, 15-19, etc.)\n",
    "\n",
    "#Purchase Count\n",
    "#Average Purchase Price\n",
    "#Total Purchase Value\n",
    "#Average Purchase Total per Person by Age Group"
   ]
  },
  {
   "cell_type": "code",
   "execution_count": null,
   "id": "b5ee8b8f-b9e2-41f6-82c5-3d0d41e7d5bb",
   "metadata": {},
   "outputs": [],
   "source": [
    "##Purchasing Analysis (age)\n",
    "\n",
    "#The below each broken into bins of 4 years (i.e. <10, 10-14, 15-19, etc.)\n",
    "\n",
    "#Purchase Count\n",
    "Average Purchase Price\n",
    "Total Purchase Value\n",
    "Average Purchase Total per Person by Age"
   ]
  },
  {
   "cell_type": "code",
   "execution_count": null,
   "id": "90ece5d4-7ff8-42ea-953f-16db25cfd165",
   "metadata": {},
   "outputs": [],
   "source": [
    "Top Spenders\n",
    "\n",
    "Identify the the top 5 spenders in the game by total purchase value, then list (in a table):\n",
    "\n",
    "SN\n",
    "Purchase Count\n",
    "Average Purchase Price\n",
    "Total Purchase Value"
   ]
  },
  {
   "cell_type": "code",
   "execution_count": null,
   "id": "241d73cb-0f1a-4463-ac55-8018eff4de31",
   "metadata": {},
   "outputs": [],
   "source": [
    "Most Popular Items\n",
    "\n",
    "Identify the 5 most popular items by purchase count, then list (in a table):\n",
    "\n",
    "Item ID\n",
    "Item Name\n",
    "Purchase Count\n",
    "Item Price\n",
    "Total Purchase Value"
   ]
  },
  {
   "cell_type": "code",
   "execution_count": null,
   "id": "06865c88-1e21-4e3c-85ad-f9b1bd351f39",
   "metadata": {},
   "outputs": [],
   "source": [
    "Most Profitable Items\n",
    "\n",
    "Identify the 5 most profitable items by total purchase value, then list (in a table):\n",
    "\n",
    "Item ID\n",
    "Item Name\n",
    "Purchase Count\n",
    "Item Price\n",
    "Total Purchase Value"
   ]
  },
  {
   "cell_type": "code",
   "execution_count": null,
   "id": "e4f785b8-2322-42b0-a058-8dd5bc3b09ad",
   "metadata": {},
   "outputs": [],
   "source": []
  }
 ],
 "metadata": {
  "kernelspec": {
   "display_name": "Python 3 (ipykernel)",
   "language": "python",
   "name": "python3"
  },
  "language_info": {
   "codemirror_mode": {
    "name": "ipython",
    "version": 3
   },
   "file_extension": ".py",
   "mimetype": "text/x-python",
   "name": "python",
   "nbconvert_exporter": "python",
   "pygments_lexer": "ipython3",
   "version": "3.9.7"
  }
 },
 "nbformat": 4,
 "nbformat_minor": 5
}
