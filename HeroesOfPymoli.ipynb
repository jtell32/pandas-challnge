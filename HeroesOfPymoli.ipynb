{
 "cells": [
  {
   "cell_type": "code",
   "execution_count": 74,
   "id": "3463a5e8-24ea-4711-8edc-9a6fb46eecf3",
   "metadata": {},
   "outputs": [],
   "source": [
    "import pandas as pd"
   ]
  },
  {
   "cell_type": "code",
   "execution_count": 75,
   "id": "a9dc679d-5a7e-4c32-99dc-f7fde9c86918",
   "metadata": {},
   "outputs": [],
   "source": [
    "csvreader = (\"Resources/purchase_data.csv\") "
   ]
  },
  {
   "cell_type": "code",
   "execution_count": 79,
   "id": "668e141a-870e-49f5-a976-b31d2f48bbd2",
   "metadata": {},
   "outputs": [],
   "source": [
    "purchase_data = pd.read_csv(csvreader)"
   ]
  },
  {
   "cell_type": "code",
   "execution_count": 157,
   "id": "fe8bbead-c2cc-4bfc-9f3d-7b5d51887b3a",
   "metadata": {},
   "outputs": [
    {
     "data": {
      "text/html": [
       "<div>\n",
       "<style scoped>\n",
       "    .dataframe tbody tr th:only-of-type {\n",
       "        vertical-align: middle;\n",
       "    }\n",
       "\n",
       "    .dataframe tbody tr th {\n",
       "        vertical-align: top;\n",
       "    }\n",
       "\n",
       "    .dataframe thead th {\n",
       "        text-align: right;\n",
       "    }\n",
       "</style>\n",
       "<table border=\"1\" class=\"dataframe\">\n",
       "  <thead>\n",
       "    <tr style=\"text-align: right;\">\n",
       "      <th></th>\n",
       "      <th>Total Players</th>\n",
       "    </tr>\n",
       "  </thead>\n",
       "  <tbody>\n",
       "    <tr>\n",
       "      <th>0</th>\n",
       "      <td>576</td>\n",
       "    </tr>\n",
       "  </tbody>\n",
       "</table>\n",
       "</div>"
      ],
      "text/plain": [
       "   Total Players\n",
       "0            576"
      ]
     },
     "execution_count": 157,
     "metadata": {},
     "output_type": "execute_result"
    }
   ],
   "source": [
    "##Player Count\n",
    "#Total Number of Players\n",
    "player_count = len(purchase_data['SN'].unique())\n",
    "total_players = pd.DataFrame({\"Total Players\": [player_count]})\n",
    "total_players"
   ]
  },
  {
   "cell_type": "code",
   "execution_count": 170,
   "id": "9aa122b2-8de0-4833-b8de-a5cc8f0d4fd7",
   "metadata": {},
   "outputs": [],
   "source": [
    "##Purchasing Analysis (Total)\n",
    "\n",
    "#Number of Unique Items\n",
    "#Average Purchase Price\n",
    "#Total Number of Purchases\n",
    "#Total Revenue\n",
    "\n",
    "unique_items = len(purchase_data['Item ID'].unique())\n",
    "purchase_price = round(purchase_data['Price'].mean(), 2)\n",
    "number_of_purchases = len(purchase_data['Purchase ID'])\n",
    "total_rev = sum(purchase_data['Price'])\n",
    "\n",
    "purchase_analysis"
   ]
  },
  {
   "cell_type": "code",
   "execution_count": 65,
   "id": "ead98860-0675-4101-a061-da22185b9592",
   "metadata": {},
   "outputs": [],
   "source": [
    "###Gender Demographics###\n",
    "\n",
    "#Percentage and Count of Male Players\n",
    "#Percentage and Count of Female Players\n",
    "#Percentage and Count of Other / Non-Disclosed"
   ]
  },
  {
   "cell_type": "code",
   "execution_count": null,
   "id": "41d4b85b-8325-484a-868d-542cec037b61",
   "metadata": {},
   "outputs": [],
   "source": [
    "###Purchasing Analysis (Gender)###\n",
    "\n",
    "#The below each broken by gender\n",
    "\n",
    "#Purchase Count\n",
    "#Average Purchase Price\n",
    "#Total Purchase Value\n",
    "#Average Purchase Total per Person by Gender"
   ]
  },
  {
   "cell_type": "code",
   "execution_count": null,
   "id": "de7dab5b-3603-4b32-8488-1e3d6b5c9c11",
   "metadata": {},
   "outputs": [],
   "source": [
    "##Age Demographics\n",
    "\n",
    "#The below each broken into bins of 4 years (i.e. <10, 10-14, 15-19, etc.)\n",
    "\n",
    "#Purchase Count\n",
    "#Average Purchase Price\n",
    "#Total Purchase Value\n",
    "#Average Purchase Total per Person by Age Group"
   ]
  },
  {
   "cell_type": "code",
   "execution_count": null,
   "id": "b5ee8b8f-b9e2-41f6-82c5-3d0d41e7d5bb",
   "metadata": {},
   "outputs": [],
   "source": [
    "##Purchasing Analysis (age)\n",
    "\n",
    "#The below each broken into bins of 4 years (i.e. <10, 10-14, 15-19, etc.)\n",
    "\n",
    "#Purchase Count\n",
    "Average Purchase Price\n",
    "Total Purchase Value\n",
    "Average Purchase Total per Person by Age"
   ]
  },
  {
   "cell_type": "code",
   "execution_count": null,
   "id": "90ece5d4-7ff8-42ea-953f-16db25cfd165",
   "metadata": {},
   "outputs": [],
   "source": [
    "Top Spenders\n",
    "\n",
    "Identify the the top 5 spenders in the game by total purchase value, then list (in a table):\n",
    "\n",
    "SN\n",
    "Purchase Count\n",
    "Average Purchase Price\n",
    "Total Purchase Value"
   ]
  },
  {
   "cell_type": "code",
   "execution_count": null,
   "id": "241d73cb-0f1a-4463-ac55-8018eff4de31",
   "metadata": {},
   "outputs": [],
   "source": [
    "Most Popular Items\n",
    "\n",
    "Identify the 5 most popular items by purchase count, then list (in a table):\n",
    "\n",
    "Item ID\n",
    "Item Name\n",
    "Purchase Count\n",
    "Item Price\n",
    "Total Purchase Value"
   ]
  },
  {
   "cell_type": "code",
   "execution_count": null,
   "id": "06865c88-1e21-4e3c-85ad-f9b1bd351f39",
   "metadata": {},
   "outputs": [],
   "source": [
    "Most Profitable Items\n",
    "\n",
    "Identify the 5 most profitable items by total purchase value, then list (in a table):\n",
    "\n",
    "Item ID\n",
    "Item Name\n",
    "Purchase Count\n",
    "Item Price\n",
    "Total Purchase Value"
   ]
  },
  {
   "cell_type": "code",
   "execution_count": null,
   "id": "19891ce9-c4f7-4618-84d0-cbb94e449c06",
   "metadata": {},
   "outputs": [],
   "source": [
    "As final considerations:\n",
    "\n",
    "You must use the Pandas Library and the Jupyter Notebook.\n",
    "You must submit a link to your Github/Git Lab repo that contains your Jupyter Notebook.\n",
    "You must include a written description of three observable trends based on the data.\n",
    "See Example Solution for a reference on expected format."
   ]
  },
  {
   "cell_type": "code",
   "execution_count": null,
   "id": "e4f785b8-2322-42b0-a058-8dd5bc3b09ad",
   "metadata": {},
   "outputs": [],
   "source": []
  }
 ],
 "metadata": {
  "kernelspec": {
   "display_name": "Python 3 (ipykernel)",
   "language": "python",
   "name": "python3"
  },
  "language_info": {
   "codemirror_mode": {
    "name": "ipython",
    "version": 3
   },
   "file_extension": ".py",
   "mimetype": "text/x-python",
   "name": "python",
   "nbconvert_exporter": "python",
   "pygments_lexer": "ipython3",
   "version": "3.9.7"
  }
 },
 "nbformat": 4,
 "nbformat_minor": 5
}
